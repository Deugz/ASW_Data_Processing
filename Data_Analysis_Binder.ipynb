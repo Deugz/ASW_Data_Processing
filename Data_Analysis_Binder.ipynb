{
 "cells": [
  {
   "cell_type": "markdown",
   "metadata": {},
   "source": [
    "# DATA Analysis - Binder version"
   ]
  },
  {
   "cell_type": "markdown",
   "metadata": {},
   "source": [
    "Explain\n",
    "\n",
    "\n",
    "#### Further implementation:\n",
    "\n",
    "- Data to be put in ordo (or Zenodo)"
   ]
  },
  {
   "cell_type": "markdown",
   "metadata": {},
   "source": [
    "#### Libraries"
   ]
  },
  {
   "cell_type": "code",
   "execution_count": null,
   "metadata": {},
   "outputs": [],
   "source": [
    "import numpy \n",
    "import math\n",
    "import matplotlib\n",
    "import matplotlib.pyplot as plt\n",
    "import ipympl \n",
    "from matplotlib import cm\n",
    "import matplotlib.colors as mcolors\n",
    "import pandas as pd\n",
    "from glob import glob\n",
    "from functools import reduce\n",
    "import ipywidgets as widgets\n",
    "from ipywidgets import interact, interactive, fixed, interact_manual, Layout, HBox\n",
    "import re\n",
    "from itertools import cycle\n",
    "import zipfile  \n",
    "#import wx\n",
    "import gdown"
   ]
  },
  {
   "cell_type": "code",
   "execution_count": null,
   "metadata": {},
   "outputs": [],
   "source": [
    "%matplotlib widget"
   ]
  },
  {
   "cell_type": "code",
   "execution_count": null,
   "metadata": {},
   "outputs": [],
   "source": [
    "spl = 'ASW'"
   ]
  },
  {
   "cell_type": "markdown",
   "metadata": {},
   "source": [
    "# Data import"
   ]
  },
  {
   "cell_type": "markdown",
   "metadata": {},
   "source": [
    "5 csv that include all the reduced data so far (31-03-2022) are imported as df :\n",
    "\n",
    "- XP_list_test (XP_Ramp_df)\n",
    "- Data_Annex_full (Data_Annex_full_df)\n",
    "- DR1_full (DR1_full_df)\n",
    "- DR2_full (DR2_full_df)\n",
    "- DR3_full (DR3_full_df)"
   ]
  },
  {
   "cell_type": "markdown",
   "metadata": {},
   "source": [
    "### Download  "
   ]
  },
  {
   "cell_type": "markdown",
   "metadata": {},
   "source": [
    "DR2 and DR1 are big files, hence they are stored on google drive and needs to be uploaded within the notebook."
   ]
  },
  {
   "cell_type": "code",
   "execution_count": null,
   "metadata": {},
   "outputs": [],
   "source": [
    "# DR2\n",
    "\n",
    "url = \"https://drive.google.com/file/d/1deWpgNp7kvvIsh056PGX9fBzADer0eYX/view?usp=sharing\"\n",
    "gdown.download(url=url, quiet=False, fuzzy=True)\n",
    "\n",
    "#DR1\n",
    "\n",
    "url = \"https://drive.google.com/file/d/1zmtG61wYExabbecMznA8P5JIA7BXy49n/view?usp=sharing\"\n",
    "gdown.download(url=url, quiet=False, fuzzy=True)\n"
   ]
  },
  {
   "cell_type": "markdown",
   "metadata": {},
   "source": [
    "### Data-frame construction"
   ]
  },
  {
   "cell_type": "code",
   "execution_count": null,
   "metadata": {},
   "outputs": [],
   "source": [
    "# XP-Ramp\n",
    "\n",
    "XP_Ramp_df = pd.read_csv('XP_list_test.csv')\n",
    "XP_Ramp_df_I = XP_Ramp_df.set_index('Date')\n",
    "\n",
    "#Data_Annex\n",
    "\n",
    "Data_Annex_full_df1 = pd.read_csv('Data_Annex_full.csv')\n",
    "Data_Annex_full_df = Data_Annex_full_df1.set_index('Name')\n",
    "del Data_Annex_full_df['Unnamed: 0']\n",
    "\n",
    "#DR1\n",
    "\n",
    "DR1_full_df = pd.read_csv('DR1_full.csv')\n",
    "\n",
    "#DR2\n",
    "\n",
    "DR2_full_df = pd.read_csv('DR2_full.csv')\n",
    "\n",
    "#DR3\n",
    "\n",
    "DR3_full_df = pd.read_csv('DR3_full.csv')"
   ]
  },
  {
   "cell_type": "markdown",
   "metadata": {},
   "source": [
    "### Sanity Check"
   ]
  },
  {
   "cell_type": "code",
   "execution_count": null,
   "metadata": {},
   "outputs": [],
   "source": [
    "#Data_Annex_full_df"
   ]
  },
  {
   "cell_type": "markdown",
   "metadata": {},
   "source": [
    "# Scan selection"
   ]
  },
  {
   "cell_type": "markdown",
   "metadata": {},
   "source": [
    "## Parameter list"
   ]
  },
  {
   "cell_type": "code",
   "execution_count": null,
   "metadata": {},
   "outputs": [],
   "source": [
    "Temp = XP_Ramp_df_I.columns[1:].values.tolist()\n",
    "Date = XP_Ramp_df_I.index.values.tolist()\n",
    "Sample = XP_Ramp_df_I['Sample'].values.tolist()\n",
    "Reduc = ['DR2','DR3']\n",
    "#Scans = ['Single','Multi']\n",
    "Param = list(Data_Annex_full_df.columns.values)"
   ]
  },
  {
   "cell_type": "markdown",
   "metadata": {},
   "source": [
    "## Widget selection"
   ]
  },
  {
   "cell_type": "markdown",
   "metadata": {},
   "source": [
    "Some stuffs"
   ]
  },
  {
   "cell_type": "code",
   "execution_count": null,
   "metadata": {},
   "outputs": [],
   "source": [
    "#Create Dropdown Box Widget\n",
    "\n",
    "#wR = widgets.SelectMultiple(\n",
    "#    options= Reduc,\n",
    "#    description='Reduction',\n",
    "#    disabled=False,\n",
    "#)\n",
    "\n",
    "wT = widgets.SelectMultiple(\n",
    "    options= Temp,\n",
    "    description='Temperature:',\n",
    "    disabled=False,\n",
    ")\n",
    "\n",
    "wD = widgets.SelectMultiple(\n",
    "    options= Date,\n",
    "    description='Date',\n",
    "    disabled=False,\n",
    ")\n",
    "\n",
    "#wS = widgets.SelectMultiple(\n",
    "#    options= Sample,\n",
    "#    description='Sample',\n",
    "#    disabled=False,\n",
    "#)\n",
    "\n",
    "wSc = widgets.Checkbox(\n",
    "    value=False,\n",
    "    description='Iso',\n",
    "    disabled=False,\n",
    "    indent=False\n",
    ")\n",
    "\n",
    "\n",
    "#widgets.HBox([wD,wT])\n",
    "\n",
    "h1 = widgets.HBox(children=[wD,wT,wSc])\n",
    "\n",
    "\n",
    "#display(wT,wD)\n",
    "display(h1)"
   ]
  },
  {
   "cell_type": "markdown",
   "metadata": {},
   "source": [
    "### Confirm "
   ]
  },
  {
   "cell_type": "markdown",
   "metadata": {},
   "source": [
    "Click on the cell below to confirm the selected scans"
   ]
  },
  {
   "cell_type": "code",
   "execution_count": null,
   "metadata": {},
   "outputs": [],
   "source": [
    "wT_L = list(wT.value)\n",
    "wD_L = list(wD.value)\n",
    "wSc_B = bool(wSc.value)"
   ]
  },
  {
   "cell_type": "code",
   "execution_count": null,
   "metadata": {},
   "outputs": [],
   "source": [
    "wSc_B"
   ]
  },
  {
   "cell_type": "markdown",
   "metadata": {},
   "source": [
    "## Sample name construction"
   ]
  },
  {
   "cell_type": "markdown",
   "metadata": {},
   "source": [
    "Can I create an intermediate step to select only one number from the many per temperature when I don`t want to plot the isotherms\n",
    "- create input button (boolean that allow to choose between 1 scan or isotherm)"
   ]
  },
  {
   "cell_type": "code",
   "execution_count": null,
   "metadata": {},
   "outputs": [],
   "source": []
  },
  {
   "cell_type": "code",
   "execution_count": null,
   "metadata": {},
   "outputs": [],
   "source": [
    "#date = ['2020_09_16','2020_09_17']\n",
    "#temp = ['60K','80K']\n",
    "#spl = 'ASW'\n",
    "\n",
    "z = []\n",
    "value_1 = []\n",
    "value_2 = []\n",
    "\n",
    "\n",
    "\n",
    "       \n",
    "\n",
    "\n",
    "\n",
    "for x in wD_L:\n",
    "    for y in wT_L:\n",
    "\n",
    "        value = XP_Ramp_df_I.loc[XP_Ramp_df_I.index == x, y].values[0]\n",
    "        print(value)\n",
    "        value_1 = re.findall(r\"[-+]?\\d*\\.\\d+|\\d+\", value)\n",
    "        print(value_1)\n",
    "        \n",
    "        #Isotherm (all values but first one - Warm-up scan)\n",
    "        #value_2 = value_1[1:]   #here we selct all but first value (warm-up)\n",
    "        \n",
    "        #Multiple scans (T range) - (Only the last value)\n",
    "        value_2 = value_1[-1:]  #here we selct only the last value of the list\n",
    "        \n",
    "        print(value_2)\n",
    "        for items in value_2:\n",
    "        \n",
    "            to_plot = str('{}_{}_{}'.format(spl, x, items))\n",
    "            z.append({\n",
    "                \n",
    "               'Name' : str(to_plot),\n",
    "               'Temp' : y,\n",
    "               'Date' : x, \n",
    "                \n",
    "          \n",
    "         \n",
    "         })\n",
    "\n",
    "dat= pd.DataFrame(z)\n",
    "data_df = dat.set_index('Name')\n",
    "            "
   ]
  },
  {
   "cell_type": "markdown",
   "metadata": {},
   "source": [
    "## Plot pre-formating"
   ]
  },
  {
   "cell_type": "markdown",
   "metadata": {},
   "source": [
    "### Temperature"
   ]
  },
  {
   "cell_type": "code",
   "execution_count": null,
   "metadata": {
    "tags": [
     "hide-input"
    ]
   },
   "outputs": [],
   "source": [
    "def Temp_color(row):\n",
    "    if row['Temp'] == '20':\n",
    "        return int(1)\n",
    "    elif row['Temp'] == '30':\n",
    "        return int(2) \n",
    "    elif row['Temp'] == '40':\n",
    "        return int(3)\n",
    "    elif row['Temp'] == '50':\n",
    "        return int(4)\n",
    "    elif row['Temp'] == '60':\n",
    "        return int(5)\n",
    "    elif row['Temp'] == '70':\n",
    "        return int(6)\n",
    "    elif row['Temp'] == '80':\n",
    "        return int(7)\n",
    "    elif row['Temp'] == '90':\n",
    "        return int(8)\n",
    "    elif row['Temp'] == '100':\n",
    "        return int(9)\n",
    "    elif row['Temp'] == '110':\n",
    "        return int(10)\n",
    "    elif row['Temp'] == '120':\n",
    "        return int(11)\n",
    "    elif row['Temp'] == '125':\n",
    "        return int(12)\n",
    "    elif row['Temp'] == '130':\n",
    "        return int(13)\n",
    "    elif row['Temp'] == '132':\n",
    "        return int(14)\n",
    "    elif row['Temp'] == '134':\n",
    "        return int(15)\n",
    "    elif row['Temp'] == '135':\n",
    "        return int(16)\n",
    "    elif row['Temp'] == '136':\n",
    "        return int(17)\n",
    "    elif row['Temp'] == '137':\n",
    "        return int(18)\n",
    "    elif row['Temp'] == '138':\n",
    "        return int(19)\n",
    "    elif row['Temp'] == '140':\n",
    "        return int(20)\n",
    "    elif row['Temp'] == '145':\n",
    "        return int(21)\n",
    "    elif row['Temp'] == '150':\n",
    "        return int(21)\n",
    "    elif row['Temp'] == '155':\n",
    "        return int(22)\n",
    "    elif row['Temp'] == '160':\n",
    "        return int(23)\n",
    "    elif row['Temp'] == '180':\n",
    "        return int(24)\n",
    "    elif row['Temp'] == '200':\n",
    "        return int(25)"
   ]
  },
  {
   "cell_type": "code",
   "execution_count": null,
   "metadata": {},
   "outputs": [],
   "source": [
    "data_df['Colour'] = data_df.apply (lambda row: Temp_color(row), axis=1)"
   ]
  },
  {
   "cell_type": "markdown",
   "metadata": {},
   "source": [
    "### Linestyle (date)"
   ]
  },
  {
   "cell_type": "code",
   "execution_count": null,
   "metadata": {},
   "outputs": [],
   "source": [
    "linestyle = ['-',':','--','-.']"
   ]
  },
  {
   "cell_type": "code",
   "execution_count": null,
   "metadata": {},
   "outputs": [],
   "source": [
    "LD = dict(zip(wD_L, linestyle))\n",
    "\n",
    "data_df['linestyle'] = data_df['Date'].map(LD)"
   ]
  },
  {
   "cell_type": "code",
   "execution_count": null,
   "metadata": {},
   "outputs": [],
   "source": [
    "LD"
   ]
  },
  {
   "cell_type": "markdown",
   "metadata": {},
   "source": [
    "### Sanity Check"
   ]
  },
  {
   "cell_type": "code",
   "execution_count": null,
   "metadata": {},
   "outputs": [],
   "source": [
    "data_df"
   ]
  },
  {
   "cell_type": "markdown",
   "metadata": {},
   "source": [
    "# Plotting"
   ]
  },
  {
   "cell_type": "markdown",
   "metadata": {},
   "source": [
    "## Scans"
   ]
  },
  {
   "cell_type": "markdown",
   "metadata": {},
   "source": [
    "### DR3"
   ]
  },
  {
   "cell_type": "code",
   "execution_count": null,
   "metadata": {},
   "outputs": [],
   "source": [
    "nscan = len(list(data_df['Date'].values.tolist()))\n",
    "\n",
    "print(nscan)\n",
    "\n",
    "fig, ax= plt.subplots(figsize=(12,10))\n",
    "\n",
    "normalize = mcolors.Normalize(vmin=20, vmax=200)\n",
    "colormap = cm.jet\n",
    "\n",
    "for i in dat['Name']:\n",
    "    \n",
    "#`DR3\n",
    "\n",
    "    x = DR3_full_df.Wavenumber\n",
    "    y = DR3_full_df['{}'.format(i)]\n",
    "    \n",
    "    plt.plot(x,y, label=\"{}_{}\".format(str(data_df.loc[i]['Date']), str(data_df.loc[i]['Temp'])), color=colormap(normalize(int(data_df.loc[i]['Temp']))), linestyle=(data_df.loc[i]['linestyle'])) \n",
    "\n",
    "\n",
    "plt.title('DR3 ')\n",
    "plt.axis([3800,2800,0,0.45])\n",
    "plt.xlabel('Wavenumber (cm-1)').set_fontsize(13)\n",
    "plt.ylabel('Absorbance').set_fontsize(13)\n",
    "#ax = fig.gca()\n",
    "plt.grid()\n",
    "plt.legend()\n",
    "\n",
    "scalarmappaple = cm.ScalarMappable(norm=normalize, cmap=colormap)\n",
    "scalarmappaple.set_array(nscan)\n",
    "plt.colorbar(scalarmappaple)\n",
    "\n",
    "\n",
    "#plt.savefig('D:\\PhD-WS\\Projects\\PAC\\XP_1-1\\DATA\\{0}\\Plots\\DR1\\DR1_{0}_All_scans.png'.format(date))\n",
    "\n",
    "plt.show()"
   ]
  },
  {
   "cell_type": "markdown",
   "metadata": {},
   "source": [
    "### DR2"
   ]
  },
  {
   "cell_type": "code",
   "execution_count": null,
   "metadata": {},
   "outputs": [],
   "source": [
    "nscan = len(list(data_df['Date'].values.tolist()))\n",
    "\n",
    "print(nscan)\n",
    "\n",
    "fig, ax= plt.subplots(figsize=(10,10))\n",
    "\n",
    "normalize = mcolors.Normalize(vmin=20, vmax=200)\n",
    "colormap = cm.jet\n",
    "\n",
    "for i in dat['Name']:\n",
    "    \n",
    "\n",
    "    x = DR2_full_df.Wavenumber\n",
    "    y = DR2_full_df['{}'.format(i)]\n",
    "    \n",
    "    plt.plot(x,y, label=\"{}_{}\".format(str(data_df.loc[i]['Date']), str(data_df.loc[i]['Temp'])), color=colormap(normalize(int(data_df.loc[i]['Temp']))), linestyle=(data_df.loc[i]['linestyle'])) \n",
    "\n",
    "\n",
    "plt.title('DR2')\n",
    "plt.axis([3800,2800,0,0.60])\n",
    "plt.xlabel('Wavenumber (cm-1)').set_fontsize(13)\n",
    "plt.ylabel('Absorbance').set_fontsize(13)\n",
    "#ax = fig.gca()\n",
    "plt.grid()\n",
    "plt.legend()\n",
    "\n",
    "scalarmappaple = cm.ScalarMappable(norm=normalize, cmap=colormap)\n",
    "scalarmappaple.set_array(nscan)\n",
    "plt.colorbar(scalarmappaple)\n",
    "\n",
    "\n",
    "#plt.savefig('D:\\PhD-WS\\Projects\\PAC\\XP_1-1\\DATA\\{0}\\Plots\\DR1\\DR1_{0}_All_scans.png'.format(date))\n",
    "\n",
    "plt.show()"
   ]
  },
  {
   "cell_type": "markdown",
   "metadata": {},
   "source": [
    "### DR1"
   ]
  },
  {
   "cell_type": "markdown",
   "metadata": {},
   "source": [
    "Why:\n",
    "- Compare the DR2 and DR1 to see if the difference observed arise from the reduction process."
   ]
  },
  {
   "cell_type": "code",
   "execution_count": null,
   "metadata": {},
   "outputs": [],
   "source": [
    "nscan = len(list(data_df['Date'].values.tolist()))\n",
    "\n",
    "print(nscan)\n",
    "\n",
    "fig, ax= plt.subplots(figsize=(10,10))\n",
    "\n",
    "normalize = mcolors.Normalize(vmin=20, vmax=200)\n",
    "colormap = cm.jet\n",
    "\n",
    "for i in dat['Name']:\n",
    "    \n",
    "\n",
    "    x = DR1_full_df.Wavenumber\n",
    "    y = DR1_full_df['{}'.format(i)]\n",
    "    \n",
    "    plt.plot(x,y, label=\"{}_{}\".format(str(data_df.loc[i]['Date']), str(data_df.loc[i]['Temp'])), color=colormap(normalize(int(data_df.loc[i]['Temp']))), linestyle=(data_df.loc[i]['linestyle'])) \n",
    "\n",
    "\n",
    "plt.title('DR1')\n",
    "plt.axis([3800,2800,-0.2,0.6])\n",
    "plt.xlabel('Wavenumber (cm-1)').set_fontsize(13)\n",
    "plt.ylabel('Absorbance').set_fontsize(13)\n",
    "#ax = fig.gca()\n",
    "plt.grid()\n",
    "plt.legend()\n",
    "\n",
    "scalarmappaple = cm.ScalarMappable(norm=normalize, cmap=colormap)\n",
    "scalarmappaple.set_array(nscan)\n",
    "plt.colorbar(scalarmappaple)\n",
    "\n",
    "\n",
    "#plt.savefig('D:\\PhD-WS\\Projects\\PAC\\XP_1-1\\DATA\\{0}\\Plots\\DR1\\DR1_{0}_All_scans.png'.format(date))\n",
    "\n",
    "plt.show()"
   ]
  },
  {
   "cell_type": "markdown",
   "metadata": {},
   "source": [
    "## Data Annex"
   ]
  },
  {
   "cell_type": "markdown",
   "metadata": {},
   "source": [
    "## Plotting"
   ]
  },
  {
   "cell_type": "markdown",
   "metadata": {},
   "source": [
    "Use interact to play with the data I plot"
   ]
  },
  {
   "cell_type": "code",
   "execution_count": null,
   "metadata": {},
   "outputs": [],
   "source": [
    "wP = widgets.SelectMultiple(\n",
    "    options= Param,\n",
    "    description='Parameters',\n",
    "    disabled=False,\n",
    ")\n",
    "\n",
    "display(wP)\n"
   ]
  },
  {
   "cell_type": "code",
   "execution_count": null,
   "metadata": {},
   "outputs": [],
   "source": [
    "wP_L = list(wP.value)"
   ]
  },
  {
   "cell_type": "code",
   "execution_count": null,
   "metadata": {},
   "outputs": [],
   "source": [
    "# Widget selection\n",
    "\n",
    "\n",
    "\n",
    "#interact(wP = widgets.SelectMultiple(\n",
    "#    options= Param,\n",
    "#    description='Parameters',\n",
    "#    disabled=False,\n",
    "#));\n",
    "\n",
    "\n",
    "\n",
    "\n",
    "# Figure\n",
    "\n",
    "fig, ax= plt.subplots(figsize=(10,10))\n",
    "\n",
    "normalize = mcolors.Normalize(vmin=20, vmax=200)\n",
    "colormap = cm.jet\n",
    "\n",
    "for i in dat['Name']:\n",
    "    for j in wP_L:\n",
    "\n",
    "    #print(i)\n",
    "    #print(j)\n",
    "        \n",
    "        x = Data_Annex_full_df[('{}'.format(j))].loc[('{}'.format(i))]\n",
    "        #y = Data_Annex_full_df['{}'.format(j)]\n",
    "        #y = Data_Annex_full_df['{}'.format(j)].loc[Data_Annex_full_df.index == ('{}'.format(i))]\n",
    "        #y = Data_Annex_full_df.loc[(Data_Annex_full_df['{}'.format(j)])] & [(Data_Annex_full_df['column_name'] == x)]\n",
    "        #print(x,y)\n",
    "        #print(i)    \n",
    "        #print(x)\n",
    "    \n",
    "        \n",
    "\n",
    "        plt.plot(i,x, '+', mew=2, ms=8, color=colormap(normalize(int(data_df.loc[i]['Temp']))) )\n",
    "\n",
    "plt.title('Data Annex')\n",
    "#plt.axis([3800,2800,0,0.45])\n",
    "# Set number of ticks for x-axis\n",
    "\n",
    "# Set ticks labels for x-axis\n",
    "\n",
    "#plt.xlabel('Wavenumber (cm-1)').set_fontsize(13)\n",
    "\n",
    "#plt.ylabel('Absorbance').set_fontsize(13)\n",
    "plt.xticks(rotation=90)\n",
    "#plt.tight_layout()\n",
    "ax = fig.gca()\n",
    "#plt.grid()\n",
    "#plt.legend()\n",
    "\n",
    "scalarmappaple = cm.ScalarMappable(norm=normalize, cmap=colormap)\n",
    "scalarmappaple.set_array(nscan)\n",
    "plt.colorbar(scalarmappaple)\n",
    "\n",
    "\n",
    "#plt.savefig('D:\\PhD-WS\\Projects\\PAC\\XP_1-1\\DATA\\{0}\\Plots\\DR1\\DR1_{0}_All_scans.png'.format(date))\n",
    "\n",
    "plt.show()"
   ]
  },
  {
   "cell_type": "markdown",
   "metadata": {},
   "source": [
    "## More"
   ]
  },
  {
   "cell_type": "markdown",
   "metadata": {},
   "source": [
    " - fit linear model to desorption great"
   ]
  }
 ],
 "metadata": {
  "kernelspec": {
   "display_name": "Python 3",
   "language": "python",
   "name": "python3"
  },
  "language_info": {
   "codemirror_mode": {
    "name": "ipython",
    "version": 3
   },
   "file_extension": ".py",
   "mimetype": "text/x-python",
   "name": "python",
   "nbconvert_exporter": "python",
   "pygments_lexer": "ipython3",
   "version": "3.8.3"
  }
 },
 "nbformat": 4,
 "nbformat_minor": 4
}
