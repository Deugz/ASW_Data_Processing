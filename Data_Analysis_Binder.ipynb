{
 "cells": [
  {
   "cell_type": "markdown",
   "metadata": {},
   "source": [
    "# DATA Analysis - Binder version"
   ]
  },
  {
   "cell_type": "markdown",
   "metadata": {},
   "source": [
    "Explain\n",
    "\n",
    "\n",
    "#### Further implementation:\n",
    "\n",
    "- Data to be put in ordo (or Zenodo)"
   ]
  },
  {
   "cell_type": "markdown",
   "metadata": {},
   "source": [
    "#### Libraries"
   ]
  },
  {
   "cell_type": "code",
   "execution_count": 29,
   "metadata": {},
   "outputs": [],
   "source": [
    "import numpy \n",
    "import math\n",
    "import matplotlib\n",
    "import matplotlib.pyplot as plt\n",
    "import ipympl \n",
    "from matplotlib import cm\n",
    "import pandas as pd\n",
    "from glob import glob\n",
    "from functools import reduce\n",
    "import ipywidgets as widgets\n",
    "from ipywidgets import interact, interactive, fixed, interact_manual\n",
    "import re\n",
    "from itertools import cycle\n",
    "import zipfile  \n",
    "#import wx\n",
    "import gdown"
   ]
  },
  {
   "cell_type": "code",
   "execution_count": 30,
   "metadata": {},
   "outputs": [],
   "source": [
    "%matplotlib widget"
   ]
  },
  {
   "cell_type": "markdown",
   "metadata": {},
   "source": [
    "# Data import"
   ]
  },
  {
   "cell_type": "markdown",
   "metadata": {},
   "source": [
    "3 csv are imported as df :\n",
    "\n",
    "- XP_list_test (XP_Ramp_df)\n",
    "- DR2_full (DR2_full_df)\n",
    "- DR3_full (DR3_full_df)"
   ]
  },
  {
   "cell_type": "code",
   "execution_count": 31,
   "metadata": {},
   "outputs": [],
   "source": [
    "spl = 'ASW'"
   ]
  },
  {
   "cell_type": "markdown",
   "metadata": {},
   "source": [
    "#### Download DR2 "
   ]
  },
  {
   "cell_type": "markdown",
   "metadata": {},
   "source": [
    "DR2 is a big file, hence is stored on google drive and uploaded when needed"
   ]
  },
  {
   "cell_type": "code",
   "execution_count": 36,
   "metadata": {},
   "outputs": [
    {
     "name": "stderr",
     "output_type": "stream",
     "text": [
      "Downloading...\n",
      "From: https://drive.google.com/uc?id=1deWpgNp7kvvIsh056PGX9fBzADer0eYX\n",
      "To: G:\\MAMP\\htdocs\\PhD-WS\\Script\\DR2_full.csv\n",
      "100%|███████████████████████████████████████████████████████████████████████████████████| 602M/602M [00:52<00:00, 11.5MB/s]\n"
     ]
    },
    {
     "data": {
      "text/plain": [
       "'DR2_full.csv'"
      ]
     },
     "execution_count": 36,
     "metadata": {},
     "output_type": "execute_result"
    }
   ],
   "source": [
    "url = \"https://drive.google.com/file/d/1deWpgNp7kvvIsh056PGX9fBzADer0eYX/view?usp=sharing\"\n",
    "gdown.download(url=url, output=output, quiet=False, fuzzy=True)"
   ]
  },
  {
   "cell_type": "code",
   "execution_count": 15,
   "metadata": {},
   "outputs": [],
   "source": [
    "# XP-Ramp\n",
    "\n",
    "XP_Ramp_df = pd.read_csv('XP_list_test.csv')\n",
    "XP_Ramp_df_I = XP_Ramp_df.set_index('Date')\n",
    "\n",
    "#DR2\n",
    "\n",
    "#DR2_full_df = pd.read_csv('..\\DATA\\DATA-Processing\\PAC\\DR2_full.csv')\n",
    "\n",
    "#DR3\n",
    "\n",
    "DR3_full_df = pd.read_csv('DR3_full.csv')"
   ]
  },
  {
   "cell_type": "markdown",
   "metadata": {},
   "source": [
    "# Scan selection"
   ]
  },
  {
   "cell_type": "markdown",
   "metadata": {},
   "source": [
    "## Parameter list"
   ]
  },
  {
   "cell_type": "code",
   "execution_count": 16,
   "metadata": {},
   "outputs": [],
   "source": [
    "Temp = XP_Ramp_df_I.columns[1:].values.tolist()\n",
    "Date = XP_Ramp_df_I.index.values.tolist()\n",
    "Sample = XP_Ramp_df_I['Sample'].values.tolist()\n",
    "Reduc = ['DR2','DR3']"
   ]
  },
  {
   "cell_type": "markdown",
   "metadata": {},
   "source": [
    "## Widget selection"
   ]
  },
  {
   "cell_type": "code",
   "execution_count": 17,
   "metadata": {},
   "outputs": [
    {
     "data": {
      "application/vnd.jupyter.widget-view+json": {
       "model_id": "e34180218b9a4b77a5ef85540c444028",
       "version_major": 2,
       "version_minor": 0
      },
      "text/plain": [
       "SelectMultiple(description='Temperature:', options=('20K ', '25K', '30K', '40K', '50K', '55K', '60K', '65K', '…"
      ]
     },
     "metadata": {},
     "output_type": "display_data"
    },
    {
     "data": {
      "application/vnd.jupyter.widget-view+json": {
       "model_id": "fc9e977b5fc24424b419d5cee283681d",
       "version_major": 2,
       "version_minor": 0
      },
      "text/plain": [
       "SelectMultiple(description='Date', options=('2020_09_15', '2020_09_16', '2020_09_17', '2020_09_21', '2020_09_2…"
      ]
     },
     "metadata": {},
     "output_type": "display_data"
    },
    {
     "data": {
      "application/vnd.jupyter.widget-view+json": {
       "model_id": "dddfb8cf0a014d36a918a4f0ec829094",
       "version_major": 2,
       "version_minor": 0
      },
      "text/plain": [
       "SelectMultiple(description='Sample', options=('ASW', 'ASW', 'ASW', 'ASW', 'ASW', 'ASW', 'ASW', 'ASW', 'ASW', '…"
      ]
     },
     "metadata": {},
     "output_type": "display_data"
    },
    {
     "data": {
      "application/vnd.jupyter.widget-view+json": {
       "model_id": "99d3ebf539d84d2e8a3e522a75c3ab98",
       "version_major": 2,
       "version_minor": 0
      },
      "text/plain": [
       "SelectMultiple(description='Reduction', options=('DR2', 'DR3'), value=())"
      ]
     },
     "metadata": {},
     "output_type": "display_data"
    }
   ],
   "source": [
    "#Create Dropdown Box Widget\n",
    "\n",
    "wR = widgets.SelectMultiple(\n",
    "    options= Reduc,\n",
    "    description='Reduction',\n",
    "    disabled=False,\n",
    ")\n",
    "\n",
    "wT = widgets.SelectMultiple(\n",
    "    options= Temp,\n",
    "    description='Temperature:',\n",
    "    disabled=False,\n",
    ")\n",
    "\n",
    "wD = widgets.SelectMultiple(\n",
    "    options= Date,\n",
    "    description='Date',\n",
    "    disabled=False,\n",
    ")\n",
    "\n",
    "wS = widgets.SelectMultiple(\n",
    "    options= Sample,\n",
    "    description='Sample',\n",
    "    disabled=False,\n",
    ")\n",
    "\n",
    "widgets.HBox([wS,wD,wT,wR])\n",
    "\n",
    "\n",
    "\n",
    "display(wT,wD,wS,wR)"
   ]
  },
  {
   "cell_type": "markdown",
   "metadata": {},
   "source": [
    "### Confirm "
   ]
  },
  {
   "cell_type": "markdown",
   "metadata": {},
   "source": [
    "Click on the cell below to confirm the selected scans"
   ]
  },
  {
   "cell_type": "code",
   "execution_count": 18,
   "metadata": {},
   "outputs": [],
   "source": [
    "wT_L = list(wT.value)\n",
    "wD_L = list(wD.value)"
   ]
  },
  {
   "cell_type": "markdown",
   "metadata": {},
   "source": [
    "## Sample name construction"
   ]
  },
  {
   "cell_type": "code",
   "execution_count": 19,
   "metadata": {},
   "outputs": [],
   "source": [
    "#date = ['2020_09_16','2020_09_17']\n",
    "#temp = ['60K','80K']\n",
    "#spl = 'ASW'\n",
    "\n",
    "z = []\n",
    "value_1 = []\n",
    "\n",
    "for x in wD_L:\n",
    "    for y in wT_L:\n",
    "\n",
    "        value = XP_Ramp_df_I.loc[XP_Ramp_df_I.index == x, y].values[0]\n",
    "        value_1 = re.findall(r\"[-+]?\\d*\\.\\d+|\\d+\", value)\n",
    "    \n",
    "        for items in value_1:\n",
    "        \n",
    "            to_plot = str('{}_{}_{}'.format(spl, x, items))\n",
    "            z.append({\n",
    "                \n",
    "               'Name' : str(to_plot),\n",
    "               'Temp' : y,\n",
    "               'Date' : x, \n",
    "                \n",
    "          \n",
    "         \n",
    "         })\n",
    "\n",
    "dat= pd.DataFrame(z)\n",
    "data_df = dat.set_index('Name')\n",
    "            "
   ]
  },
  {
   "cell_type": "markdown",
   "metadata": {},
   "source": [
    "## Plot pre-formating"
   ]
  },
  {
   "cell_type": "markdown",
   "metadata": {},
   "source": [
    "### Temperature"
   ]
  },
  {
   "cell_type": "code",
   "execution_count": 20,
   "metadata": {
    "tags": [
     "hide-input"
    ]
   },
   "outputs": [],
   "source": [
    "def Temp_color(row):\n",
    "    if row['Temp'] == '20K ':\n",
    "        return int(1)\n",
    "    if row['Temp'] == '30K ':\n",
    "        return int(2) \n",
    "    elif row['Temp'] == '40K':\n",
    "        return int(3)\n",
    "    elif row['Temp'] == '50K':\n",
    "        return int(4)\n",
    "    elif row['Temp'] == '60K':\n",
    "        return int(5)\n",
    "    elif row['Temp'] == '70K':\n",
    "        return int(6)\n",
    "    elif row['Temp'] == '80K':\n",
    "        return int(7)\n",
    "    elif row['Temp'] == '90K':\n",
    "        return int(8)\n",
    "    elif row['Temp'] == '100K':\n",
    "        return int(9)\n",
    "    elif row['Temp'] == '110K':\n",
    "        return int(10)\n",
    "    elif row['Temp'] == '120K':\n",
    "        return int(11)\n",
    "    elif row['Temp'] == '125K':\n",
    "        return int(12)\n",
    "    elif row['Temp'] == '130K':\n",
    "        return int(13)\n",
    "    elif row['Temp'] == '132K':\n",
    "        return int(14)\n",
    "    elif row['Temp'] == '134K':\n",
    "        return int(15)\n",
    "    elif row['Temp'] == '135K':\n",
    "        return int(16)\n",
    "    elif row['Temp'] == '136K':\n",
    "        return int(17)\n",
    "    elif row['Temp'] == '137K':\n",
    "        return int(18)\n",
    "    elif row['Temp'] == '138K':\n",
    "        return int(19)\n",
    "    elif row['Temp'] == '140K':\n",
    "        return int(20)\n",
    "    elif row['Temp'] == '145K':\n",
    "        return int(21)\n",
    "    elif row['Temp'] == '150K':\n",
    "        return int(21)\n",
    "    elif row['Temp'] == '155K':\n",
    "        return int(22)\n",
    "    elif row['Temp'] == '160K':\n",
    "        return int(23)\n",
    "    elif row['Temp'] == '180K':\n",
    "        return int(24)\n",
    "    elif row['Temp'] == '200K':\n",
    "        return int(25)"
   ]
  },
  {
   "cell_type": "code",
   "execution_count": 21,
   "metadata": {},
   "outputs": [],
   "source": [
    "data_df['Colour'] = data_df.apply (lambda row: Temp_color(row), axis=1)"
   ]
  },
  {
   "cell_type": "markdown",
   "metadata": {},
   "source": [
    "### Linestyle (date)"
   ]
  },
  {
   "cell_type": "code",
   "execution_count": 22,
   "metadata": {},
   "outputs": [],
   "source": [
    "linestyle = ['-',':','--','-.']"
   ]
  },
  {
   "cell_type": "code",
   "execution_count": 23,
   "metadata": {},
   "outputs": [],
   "source": [
    "LD = dict(zip(wD_L, linestyle))\n",
    "\n",
    "data_df['linestyle'] = data_df['Date'].map(LD)"
   ]
  },
  {
   "cell_type": "markdown",
   "metadata": {},
   "source": [
    "### Sanity Check"
   ]
  },
  {
   "cell_type": "code",
   "execution_count": 24,
   "metadata": {},
   "outputs": [
    {
     "data": {
      "text/html": [
       "<div>\n",
       "<style scoped>\n",
       "    .dataframe tbody tr th:only-of-type {\n",
       "        vertical-align: middle;\n",
       "    }\n",
       "\n",
       "    .dataframe tbody tr th {\n",
       "        vertical-align: top;\n",
       "    }\n",
       "\n",
       "    .dataframe thead th {\n",
       "        text-align: right;\n",
       "    }\n",
       "</style>\n",
       "<table border=\"1\" class=\"dataframe\">\n",
       "  <thead>\n",
       "    <tr style=\"text-align: right;\">\n",
       "      <th></th>\n",
       "      <th>Temp</th>\n",
       "      <th>Date</th>\n",
       "      <th>Colour</th>\n",
       "      <th>linestyle</th>\n",
       "    </tr>\n",
       "    <tr>\n",
       "      <th>Name</th>\n",
       "      <th></th>\n",
       "      <th></th>\n",
       "      <th></th>\n",
       "      <th></th>\n",
       "    </tr>\n",
       "  </thead>\n",
       "  <tbody>\n",
       "    <tr>\n",
       "      <th>ASW_2020_09_16_1</th>\n",
       "      <td>20K</td>\n",
       "      <td>2020_09_16</td>\n",
       "      <td>1</td>\n",
       "      <td>-</td>\n",
       "    </tr>\n",
       "    <tr>\n",
       "      <th>ASW_2020_09_16_2</th>\n",
       "      <td>20K</td>\n",
       "      <td>2020_09_16</td>\n",
       "      <td>1</td>\n",
       "      <td>-</td>\n",
       "    </tr>\n",
       "    <tr>\n",
       "      <th>ASW_2020_09_28_1</th>\n",
       "      <td>20K</td>\n",
       "      <td>2020_09_28</td>\n",
       "      <td>1</td>\n",
       "      <td>:</td>\n",
       "    </tr>\n",
       "    <tr>\n",
       "      <th>ASW_2020_09_28_2</th>\n",
       "      <td>20K</td>\n",
       "      <td>2020_09_28</td>\n",
       "      <td>1</td>\n",
       "      <td>:</td>\n",
       "    </tr>\n",
       "  </tbody>\n",
       "</table>\n",
       "</div>"
      ],
      "text/plain": [
       "                  Temp        Date  Colour linestyle\n",
       "Name                                                \n",
       "ASW_2020_09_16_1  20K   2020_09_16       1         -\n",
       "ASW_2020_09_16_2  20K   2020_09_16       1         -\n",
       "ASW_2020_09_28_1  20K   2020_09_28       1         :\n",
       "ASW_2020_09_28_2  20K   2020_09_28       1         :"
      ]
     },
     "execution_count": 24,
     "metadata": {},
     "output_type": "execute_result"
    }
   ],
   "source": [
    "data_df"
   ]
  },
  {
   "cell_type": "markdown",
   "metadata": {},
   "source": [
    "# Plotting"
   ]
  },
  {
   "cell_type": "markdown",
   "metadata": {},
   "source": [
    "## DR3"
   ]
  },
  {
   "cell_type": "code",
   "execution_count": 25,
   "metadata": {},
   "outputs": [
    {
     "name": "stdout",
     "output_type": "stream",
     "text": [
      "4\n"
     ]
    },
    {
     "data": {
      "application/vnd.jupyter.widget-view+json": {
       "model_id": "6cb76776942c487aa626e895d5ae6a00",
       "version_major": 2,
       "version_minor": 0
      },
      "text/plain": [
       "Canvas(toolbar=Toolbar(toolitems=[('Home', 'Reset original view', 'home', 'home'), ('Back', 'Back to previous …"
      ]
     },
     "metadata": {},
     "output_type": "display_data"
    }
   ],
   "source": [
    "nscan = len(list(data_df['Date'].values.tolist()))\n",
    "\n",
    "print(nscan)\n",
    "\n",
    "fig, ax= plt.subplots(figsize=(10,10))\n",
    "\n",
    "#colors = sns.color_palette(\"coolwarm\", data_df.Temp.nunique())\n",
    "#ax.set_prop_cycle('color', colors)\n",
    "\n",
    "#ax.set_prop_cycle(color =['b', 'g'])\n",
    "#cc = (cycler(linestyle=['-', '--', '-.', ]))\n",
    "\n",
    "for i in dat['Name']:\n",
    "    \n",
    "#DR2\n",
    "    \n",
    "    #x = DR2_Allscans_full.Wavenumber\n",
    "    #y = DR2_Allscans_full['{}'.format(i)]\n",
    "\n",
    "#`DR3\n",
    "\n",
    "    x = DR3_full_df.Wavenumber\n",
    "    y = DR3_full_df['{}'.format(i)]\n",
    "    \n",
    "    plt.plot(x,y, label=\"{}_{}\".format(str(data_df.loc[i]['Date']), str(data_df.loc[i]['Temp'])), c=cm.jet(int(data_df.loc[i]['Colour'])/25), linestyle=(data_df.loc[i]['linestyle'])) \n",
    "\n",
    "\n",
    "plt.title('DR3 ')\n",
    "plt.axis([3800,2800,0,0.45])\n",
    "plt.xlabel('Wavenumber (cm-1)').set_fontsize(13)\n",
    "plt.ylabel('Absorbance').set_fontsize(13)\n",
    "#ax = fig.gca()\n",
    "plt.grid()\n",
    "plt.legend()\n",
    "\n",
    "\n",
    "#plt.savefig('D:\\PhD-WS\\Projects\\PAC\\XP_1-1\\DATA\\{0}\\Plots\\DR1\\DR1_{0}_All_scans.png'.format(date))\n",
    "\n",
    "plt.show()"
   ]
  },
  {
   "cell_type": "markdown",
   "metadata": {},
   "source": [
    "## DR2"
   ]
  },
  {
   "cell_type": "code",
   "execution_count": 26,
   "metadata": {},
   "outputs": [
    {
     "name": "stdout",
     "output_type": "stream",
     "text": [
      "4\n"
     ]
    },
    {
     "data": {
      "application/vnd.jupyter.widget-view+json": {
       "model_id": "10edfff5f9da4b67a08a87a1a6b9f53e",
       "version_major": 2,
       "version_minor": 0
      },
      "text/plain": [
       "Canvas(toolbar=Toolbar(toolitems=[('Home', 'Reset original view', 'home', 'home'), ('Back', 'Back to previous …"
      ]
     },
     "metadata": {},
     "output_type": "display_data"
    }
   ],
   "source": [
    "nscan = len(list(data_df['Date'].values.tolist()))\n",
    "\n",
    "print(nscan)\n",
    "\n",
    "fig, ax= plt.subplots(figsize=(10,10))\n",
    "\n",
    "#colors = sns.color_palette(\"coolwarm\", data_df.Temp.nunique())\n",
    "#ax.set_prop_cycle('color', colors)\n",
    "\n",
    "#ax.set_prop_cycle(color =['b', 'g'])\n",
    "#cc = (cycler(linestyle=['-', '--', '-.', ]))\n",
    "\n",
    "for i in dat['Name']:\n",
    "    \n",
    "#DR2\n",
    "    \n",
    "    #x = DR2_Allscans_full.Wavenumber\n",
    "    #y = DR2_Allscans_full['{}'.format(i)]\n",
    "\n",
    "#`DR3\n",
    "\n",
    "    x = DR2_full_df.Wavenumber\n",
    "    y = DR2_full_df['{}'.format(i)]\n",
    "    \n",
    "    plt.plot(x,y, label=\"{}_{}\".format(str(data_df.loc[i]['Date']), str(data_df.loc[i]['Temp'])), c=cm.jet(int(data_df.loc[i]['Colour'])/25), linestyle=(data_df.loc[i]['linestyle'])) \n",
    "\n",
    "\n",
    "plt.title('DR2')\n",
    "plt.axis([3800,2800,0,0.45])\n",
    "plt.xlabel('Wavenumber (cm-1)').set_fontsize(13)\n",
    "plt.ylabel('Absorbance').set_fontsize(13)\n",
    "#ax = fig.gca()\n",
    "plt.grid()\n",
    "plt.legend()\n",
    "\n",
    "\n",
    "#plt.savefig('D:\\PhD-WS\\Projects\\PAC\\XP_1-1\\DATA\\{0}\\Plots\\DR1\\DR1_{0}_All_scans.png'.format(date))\n",
    "\n",
    "plt.show()"
   ]
  },
  {
   "cell_type": "markdown",
   "metadata": {},
   "source": [
    "## DR1"
   ]
  },
  {
   "cell_type": "markdown",
   "metadata": {},
   "source": [
    "not working yet"
   ]
  },
  {
   "cell_type": "code",
   "execution_count": null,
   "metadata": {},
   "outputs": [],
   "source": [
    "nscan = len(list(data_df['Date'].values.tolist()))\n",
    "\n",
    "print(nscan)\n",
    "\n",
    "fig, ax= plt.subplots(figsize=(10,10))\n",
    "\n",
    "#colors = sns.color_palette(\"coolwarm\", data_df.Temp.nunique())\n",
    "#ax.set_prop_cycle('color', colors)\n",
    "\n",
    "#ax.set_prop_cycle(color =['b', 'g'])\n",
    "#cc = (cycler(linestyle=['-', '--', '-.', ]))\n",
    "\n",
    "for i in dat['Name']:\n",
    "    \n",
    "#DR2\n",
    "    \n",
    "    #x = DR2_Allscans_full.Wavenumber\n",
    "    #y = DR2_Allscans_full['{}'.format(i)]\n",
    "\n",
    "#`DR3\n",
    "\n",
    "    x = DR1_full_df.Wavenumber\n",
    "    y = DR1_full_df['{}'.format(i)]\n",
    "    \n",
    "    plt.plot(x,y, label=\"{}_{}\".format(str(data_df.loc[i]['Date']), str(data_df.loc[i]['Temp'])), c=cm.jet(int(data_df.loc[i]['Colour'])/25), linestyle=(data_df.loc[i]['linestyle'])) \n",
    "\n",
    "\n",
    "plt.title('DR1')\n",
    "plt.axis([3800,2800,0,0.45])\n",
    "plt.xlabel('Wavenumber (cm-1)').set_fontsize(13)\n",
    "plt.ylabel('Absorbance').set_fontsize(13)\n",
    "#ax = fig.gca()\n",
    "plt.grid()\n",
    "plt.legend()\n",
    "\n",
    "\n",
    "#plt.savefig('D:\\PhD-WS\\Projects\\PAC\\XP_1-1\\DATA\\{0}\\Plots\\DR1\\DR1_{0}_All_scans.png'.format(date))\n",
    "\n",
    "plt.show()"
   ]
  }
 ],
 "metadata": {
  "kernelspec": {
   "display_name": "Python 3",
   "language": "python",
   "name": "python3"
  },
  "language_info": {
   "codemirror_mode": {
    "name": "ipython",
    "version": 3
   },
   "file_extension": ".py",
   "mimetype": "text/x-python",
   "name": "python",
   "nbconvert_exporter": "python",
   "pygments_lexer": "ipython3",
   "version": "3.8.3"
  }
 },
 "nbformat": 4,
 "nbformat_minor": 4
}
