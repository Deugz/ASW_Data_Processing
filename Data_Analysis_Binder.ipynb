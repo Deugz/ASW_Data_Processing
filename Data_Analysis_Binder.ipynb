{
 "cells": [
  {
   "cell_type": "markdown",
   "metadata": {},
   "source": [
    "# DATA Analysis - Binder version"
   ]
  },
  {
   "cell_type": "markdown",
   "metadata": {},
   "source": [
    "#### Libraries"
   ]
  },
  {
   "cell_type": "code",
   "execution_count": 4,
   "metadata": {},
   "outputs": [],
   "source": [
    "import numpy \n",
    "import math\n",
    "import matplotlib\n",
    "import matplotlib.pyplot as plt\n",
    "from matplotlib import cm\n",
    "import pandas as pd\n",
    "from glob import glob\n",
    "from functools import reduce\n",
    "import ipywidgets as widgets\n",
    "from ipywidgets import interact, interactive, fixed, interact_manual\n",
    "import re\n",
    "from itertools import cycle\n",
    "import zipfile\n",
    "#import wx"
   ]
  },
  {
   "cell_type": "markdown",
   "metadata": {},
   "source": [
    "#### Binder"
   ]
  },
  {
   "cell_type": "markdown",
   "metadata": {},
   "source": [
    "In order to put our Notebook on binder, we need to copy and paste the packages and version that are used within the notebook. This can be achieved using the following line of code"
   ]
  },
  {
   "cell_type": "code",
   "execution_count": 5,
   "metadata": {},
   "outputs": [],
   "source": [
    "#%load_ext watermark"
   ]
  },
  {
   "cell_type": "code",
   "execution_count": 6,
   "metadata": {},
   "outputs": [],
   "source": [
    "#%watermark --iversions"
   ]
  },
  {
   "cell_type": "markdown",
   "metadata": {},
   "source": [
    "# Data import"
   ]
  },
  {
   "cell_type": "markdown",
   "metadata": {},
   "source": [
    "Because the data needs to be put in a Git repository, a minimum number of files needs to be imported"
   ]
  },
  {
   "cell_type": "code",
   "execution_count": 6,
   "metadata": {},
   "outputs": [],
   "source": [
    "spl = 'ASW'"
   ]
  },
  {
   "cell_type": "code",
   "execution_count": 7,
   "metadata": {},
   "outputs": [],
   "source": [
    "#zf = zipfile.ZipFile('Data.zip')"
   ]
  },
  {
   "cell_type": "code",
   "execution_count": 8,
   "metadata": {},
   "outputs": [
    {
     "data": {
      "text/plain": [
       "['Data/DR3_full.csv', 'Data/XP_list_test.csv']"
      ]
     },
     "execution_count": 8,
     "metadata": {},
     "output_type": "execute_result"
    }
   ],
   "source": [
    "#zf. namelist()"
   ]
  },
  {
   "cell_type": "markdown",
   "metadata": {},
   "source": [
    "## XP-Ramp"
   ]
  },
  {
   "cell_type": "code",
   "execution_count": 9,
   "metadata": {},
   "outputs": [],
   "source": [
    "#XP_Ramp_df = pd.read_csv(zf.open('Data/XP_list_test.csv'))\n",
    "XP_Ramp_df = pd.read_csv('XP_list_test.csv')\n",
    "XP_Ramp_df_I = XP_Ramp_df.set_index('Date')"
   ]
  },
  {
   "cell_type": "markdown",
   "metadata": {},
   "source": [
    "## DR2"
   ]
  },
  {
   "cell_type": "code",
   "execution_count": 10,
   "metadata": {},
   "outputs": [],
   "source": [
    "#DR2_full_df = pd.read_csv('Data\\DR2_full.csv')"
   ]
  },
  {
   "cell_type": "markdown",
   "metadata": {},
   "source": [
    "## DR3"
   ]
  },
  {
   "cell_type": "code",
   "execution_count": 11,
   "metadata": {},
   "outputs": [],
   "source": [
    "DR3_full_df = pd.read_csv('DR3_full.csv')"
   ]
  },
  {
   "cell_type": "markdown",
   "metadata": {},
   "source": [
    "# Scan selection"
   ]
  },
  {
   "cell_type": "markdown",
   "metadata": {},
   "source": [
    "## Parameter list"
   ]
  },
  {
   "cell_type": "code",
   "execution_count": 12,
   "metadata": {},
   "outputs": [],
   "source": [
    "Temp = XP_Ramp_df_I.columns[1:].values.tolist()\n",
    "Date = XP_Ramp_df_I.index.values.tolist()\n",
    "Sample = XP_Ramp_df_I['Sample'].values.tolist()\n",
    "Reduc = ['DR2','DR3']"
   ]
  },
  {
   "cell_type": "markdown",
   "metadata": {},
   "source": [
    "## Widget selection"
   ]
  },
  {
   "cell_type": "code",
   "execution_count": 13,
   "metadata": {},
   "outputs": [
    {
     "data": {
      "application/vnd.jupyter.widget-view+json": {
       "model_id": "92b41454637d41c3968e8e58f75c5ab3",
       "version_major": 2,
       "version_minor": 0
      },
      "text/plain": [
       "SelectMultiple(description='Temperature:', options=('20K ', '25K', '30K', '40K', '50K', '55K', '60K', '65K', '…"
      ]
     },
     "metadata": {},
     "output_type": "display_data"
    },
    {
     "data": {
      "application/vnd.jupyter.widget-view+json": {
       "model_id": "fbe3da4e6b4a4998a6bfa2c6ba001bd8",
       "version_major": 2,
       "version_minor": 0
      },
      "text/plain": [
       "SelectMultiple(description='Date', options=('2020_09_15', '2020_09_16', '2020_09_17', '2020_09_21', '2020_09_2…"
      ]
     },
     "metadata": {},
     "output_type": "display_data"
    },
    {
     "data": {
      "application/vnd.jupyter.widget-view+json": {
       "model_id": "cb6139a00fa64e52956dba6867d84638",
       "version_major": 2,
       "version_minor": 0
      },
      "text/plain": [
       "SelectMultiple(description='Sample', options=('ASW', 'ASW', 'ASW', 'ASW', 'ASW', 'ASW', 'ASW', 'ASW', 'ASW', '…"
      ]
     },
     "metadata": {},
     "output_type": "display_data"
    },
    {
     "data": {
      "application/vnd.jupyter.widget-view+json": {
       "model_id": "3d9f1b58cafd4d96918773301610252e",
       "version_major": 2,
       "version_minor": 0
      },
      "text/plain": [
       "SelectMultiple(description='Reduction', options=('DR2', 'DR3'), value=())"
      ]
     },
     "metadata": {},
     "output_type": "display_data"
    }
   ],
   "source": [
    "#Create Dropdown Box Widget\n",
    "\n",
    "wR = widgets.SelectMultiple(\n",
    "    options= Reduc,\n",
    "    description='Reduction',\n",
    "    disabled=False,\n",
    ")\n",
    "\n",
    "wT = widgets.SelectMultiple(\n",
    "    options= Temp,\n",
    "    description='Temperature:',\n",
    "    disabled=False,\n",
    ")\n",
    "\n",
    "wD = widgets.SelectMultiple(\n",
    "    options= Date,\n",
    "    description='Date',\n",
    "    disabled=False,\n",
    ")\n",
    "\n",
    "wS = widgets.SelectMultiple(\n",
    "    options= Sample,\n",
    "    description='Sample',\n",
    "    disabled=False,\n",
    ")\n",
    "\n",
    "widgets.HBox([wS,wD,wT,wR])\n",
    "\n",
    "\n",
    "\n",
    "display(wT,wD,wS,wR)"
   ]
  },
  {
   "cell_type": "code",
   "execution_count": 14,
   "metadata": {},
   "outputs": [],
   "source": [
    "wT_L = list(wT.value)\n",
    "wD_L = list(wD.value)"
   ]
  },
  {
   "cell_type": "markdown",
   "metadata": {},
   "source": [
    "## Sample name construction"
   ]
  },
  {
   "cell_type": "code",
   "execution_count": 15,
   "metadata": {},
   "outputs": [],
   "source": [
    "#date = ['2020_09_16','2020_09_17']\n",
    "#temp = ['60K','80K']\n",
    "#spl = 'ASW'\n",
    "\n",
    "z = []\n",
    "value_1 = []\n",
    "\n",
    "for x in wD_L:\n",
    "    for y in wT_L:\n",
    "\n",
    "        value = XP_Ramp_df_I.loc[XP_Ramp_df_I.index == x, y].values[0]\n",
    "        value_1 = re.findall(r\"[-+]?\\d*\\.\\d+|\\d+\", value)\n",
    "    \n",
    "        for items in value_1:\n",
    "        \n",
    "            to_plot = str('{}_{}_{}'.format(spl, x, items))\n",
    "            z.append({\n",
    "                \n",
    "               'Name' : str(to_plot),\n",
    "               'Temp' : y,\n",
    "               'Date' : x, \n",
    "                \n",
    "          \n",
    "         \n",
    "         })\n",
    "\n",
    "dat= pd.DataFrame(z)\n",
    "data_df = dat.set_index('Name')\n",
    "            "
   ]
  },
  {
   "cell_type": "markdown",
   "metadata": {},
   "source": [
    "## Plot pre-formating"
   ]
  },
  {
   "cell_type": "markdown",
   "metadata": {},
   "source": [
    "### Temperature"
   ]
  },
  {
   "cell_type": "code",
   "execution_count": 16,
   "metadata": {},
   "outputs": [],
   "source": [
    "def Temp_color(row):\n",
    "    if row['Temp'] == '20K ':\n",
    "        return int(1)\n",
    "    if row['Temp'] == '30K ':\n",
    "        return int(2) \n",
    "    elif row['Temp'] == '40K':\n",
    "        return int(3)\n",
    "    elif row['Temp'] == '50K':\n",
    "        return int(4)\n",
    "    elif row['Temp'] == '60K':\n",
    "        return int(5)\n",
    "    elif row['Temp'] == '70K':\n",
    "        return int(6)\n",
    "    elif row['Temp'] == '80K':\n",
    "        return int(7)\n",
    "    elif row['Temp'] == '90K':\n",
    "        return int(8)\n",
    "    elif row['Temp'] == '100K':\n",
    "        return int(9)\n",
    "    elif row['Temp'] == '110K':\n",
    "        return int(10)\n",
    "    elif row['Temp'] == '120K':\n",
    "        return int(11)\n",
    "    elif row['Temp'] == '125K':\n",
    "        return int(12)\n",
    "    elif row['Temp'] == '130K':\n",
    "        return int(13)\n",
    "    elif row['Temp'] == '132K':\n",
    "        return int(14)\n",
    "    elif row['Temp'] == '134K':\n",
    "        return int(15)\n",
    "    elif row['Temp'] == '135K':\n",
    "        return int(16)\n",
    "    elif row['Temp'] == '136K':\n",
    "        return int(17)\n",
    "    elif row['Temp'] == '137K':\n",
    "        return int(18)\n",
    "    elif row['Temp'] == '138K':\n",
    "        return int(19)\n",
    "    elif row['Temp'] == '140K':\n",
    "        return int(20)\n",
    "    elif row['Temp'] == '145K':\n",
    "        return int(21)\n",
    "    elif row['Temp'] == '150K':\n",
    "        return int(21)\n",
    "    elif row['Temp'] == '155K':\n",
    "        return int(22)\n",
    "    elif row['Temp'] == '160K':\n",
    "        return int(23)\n",
    "    elif row['Temp'] == '180K':\n",
    "        return int(24)\n",
    "    elif row['Temp'] == '200K':\n",
    "        return int(25)"
   ]
  },
  {
   "cell_type": "code",
   "execution_count": 17,
   "metadata": {},
   "outputs": [],
   "source": [
    "data_df['Colour'] = data_df.apply (lambda row: Temp_color(row), axis=1)"
   ]
  },
  {
   "cell_type": "markdown",
   "metadata": {},
   "source": [
    "### Linestyle (date)"
   ]
  },
  {
   "cell_type": "code",
   "execution_count": 18,
   "metadata": {},
   "outputs": [],
   "source": [
    "linestyle = ['-',':','--']"
   ]
  },
  {
   "cell_type": "code",
   "execution_count": 19,
   "metadata": {},
   "outputs": [],
   "source": [
    "LD = dict(zip(wD_L, linestyle))\n",
    "\n",
    "data_df['linestyle'] = data_df['Date'].map(LD)"
   ]
  },
  {
   "cell_type": "markdown",
   "metadata": {},
   "source": [
    "### Sanity Check"
   ]
  },
  {
   "cell_type": "code",
   "execution_count": 20,
   "metadata": {},
   "outputs": [
    {
     "data": {
      "text/html": [
       "<div>\n",
       "<style scoped>\n",
       "    .dataframe tbody tr th:only-of-type {\n",
       "        vertical-align: middle;\n",
       "    }\n",
       "\n",
       "    .dataframe tbody tr th {\n",
       "        vertical-align: top;\n",
       "    }\n",
       "\n",
       "    .dataframe thead th {\n",
       "        text-align: right;\n",
       "    }\n",
       "</style>\n",
       "<table border=\"1\" class=\"dataframe\">\n",
       "  <thead>\n",
       "    <tr style=\"text-align: right;\">\n",
       "      <th></th>\n",
       "      <th>Temp</th>\n",
       "      <th>Date</th>\n",
       "      <th>Colour</th>\n",
       "      <th>linestyle</th>\n",
       "    </tr>\n",
       "    <tr>\n",
       "      <th>Name</th>\n",
       "      <th></th>\n",
       "      <th></th>\n",
       "      <th></th>\n",
       "      <th></th>\n",
       "    </tr>\n",
       "  </thead>\n",
       "  <tbody>\n",
       "    <tr>\n",
       "      <th>ASW_2020_09_15_1</th>\n",
       "      <td>20K</td>\n",
       "      <td>2020_09_15</td>\n",
       "      <td>1</td>\n",
       "      <td>-</td>\n",
       "    </tr>\n",
       "    <tr>\n",
       "      <th>ASW_2020_09_16_1</th>\n",
       "      <td>20K</td>\n",
       "      <td>2020_09_16</td>\n",
       "      <td>1</td>\n",
       "      <td>:</td>\n",
       "    </tr>\n",
       "    <tr>\n",
       "      <th>ASW_2020_09_16_2</th>\n",
       "      <td>20K</td>\n",
       "      <td>2020_09_16</td>\n",
       "      <td>1</td>\n",
       "      <td>:</td>\n",
       "    </tr>\n",
       "    <tr>\n",
       "      <th>ASW_2020_09_17_1</th>\n",
       "      <td>20K</td>\n",
       "      <td>2020_09_17</td>\n",
       "      <td>1</td>\n",
       "      <td>--</td>\n",
       "    </tr>\n",
       "    <tr>\n",
       "      <th>ASW_2020_09_17_2</th>\n",
       "      <td>20K</td>\n",
       "      <td>2020_09_17</td>\n",
       "      <td>1</td>\n",
       "      <td>--</td>\n",
       "    </tr>\n",
       "  </tbody>\n",
       "</table>\n",
       "</div>"
      ],
      "text/plain": [
       "                  Temp        Date  Colour linestyle\n",
       "Name                                                \n",
       "ASW_2020_09_15_1  20K   2020_09_15       1         -\n",
       "ASW_2020_09_16_1  20K   2020_09_16       1         :\n",
       "ASW_2020_09_16_2  20K   2020_09_16       1         :\n",
       "ASW_2020_09_17_1  20K   2020_09_17       1        --\n",
       "ASW_2020_09_17_2  20K   2020_09_17       1        --"
      ]
     },
     "execution_count": 20,
     "metadata": {},
     "output_type": "execute_result"
    }
   ],
   "source": [
    "data_df"
   ]
  },
  {
   "cell_type": "markdown",
   "metadata": {},
   "source": [
    "# Plotting"
   ]
  },
  {
   "cell_type": "code",
   "execution_count": null,
   "metadata": {},
   "outputs": [],
   "source": []
  },
  {
   "cell_type": "code",
   "execution_count": 21,
   "metadata": {},
   "outputs": [
    {
     "name": "stdout",
     "output_type": "stream",
     "text": [
      "5\n"
     ]
    },
    {
     "data": {
      "image/png": "[encoded data removed]",
      "text/plain": [
       "<Figure size 720x720 with 1 Axes>"
      ]
     },
     "metadata": {
      "needs_background": "light"
     },
     "output_type": "display_data"
    }
   ],
   "source": [
    "nscan = len(list(data_df['Date'].values.tolist()))\n",
    "\n",
    "print(nscan)\n",
    "\n",
    "fig, ax= plt.subplots(figsize=(10,10))\n",
    "\n",
    "#colors = sns.color_palette(\"coolwarm\", data_df.Temp.nunique())\n",
    "#ax.set_prop_cycle('color', colors)\n",
    "\n",
    "#ax.set_prop_cycle(color =['b', 'g'])\n",
    "#cc = (cycler(linestyle=['-', '--', '-.', ]))\n",
    "\n",
    "for i in dat['Name']:\n",
    "    \n",
    "#DR2\n",
    "    \n",
    "    #x = DR2_Allscans_full.Wavenumber\n",
    "    #y = DR2_Allscans_full['{}'.format(i)]\n",
    "\n",
    "#`DR3\n",
    "\n",
    "    x = DR3_full_df.Wavenumber\n",
    "    y = DR3_full_df['{}'.format(i)]\n",
    "    \n",
    "    plt.plot(x,y, label=\"{}_{}\".format(str(data_df.loc[i]['Date']), str(data_df.loc[i]['Temp'])), c=cm.jet(int(data_df.loc[i]['Colour'])/25), linestyle=(data_df.loc[i]['linestyle'])) \n",
    "\n",
    "\n",
    "#plt.title('{0} DR3 '.format(date))\n",
    "plt.axis([3800,2800,0,0.45])\n",
    "plt.xlabel('Wavenumber (cm-1)').set_fontsize(13)\n",
    "plt.ylabel('Absorbance').set_fontsize(13)\n",
    "#ax = fig.gca()\n",
    "plt.grid()\n",
    "plt.legend()\n",
    "\n",
    "\n",
    "#plt.savefig('D:\\PhD-WS\\Projects\\PAC\\XP_1-1\\DATA\\{0}\\Plots\\DR1\\DR1_{0}_All_scans.png'.format(date))\n",
    "\n",
    "plt.show()"
   ]
  },
  {
   "cell_type": "code",
   "execution_count": null,
   "metadata": {},
   "outputs": [],
   "source": []
  }
 ],
 "metadata": {
  "kernelspec": {
   "display_name": "Python 3",
   "language": "python",
   "name": "python3"
  },
  "language_info": {
   "codemirror_mode": {
    "name": "ipython",
    "version": 3
   },
   "file_extension": ".py",
   "mimetype": "text/x-python",
   "name": "python",
   "nbconvert_exporter": "python",
   "pygments_lexer": "ipython3",
   "version": "3.8.3"
  }
 },
 "nbformat": 4,
 "nbformat_minor": 4
}
